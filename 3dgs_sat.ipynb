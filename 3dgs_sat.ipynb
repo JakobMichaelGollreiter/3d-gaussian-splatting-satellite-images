{
  "cells": [
    {
      "cell_type": "markdown",
      "metadata": {
        "id": "UN_tSkntmkca"
      },
      "source": [
        "## Setup"
      ]
    },
    {
      "cell_type": "code",
      "execution_count": null,
      "metadata": {
        "colab": {
          "base_uri": "https://localhost:8080/"
        },
        "collapsed": true,
        "id": "DcnFJ16WL_kS",
        "outputId": "abac34ae-5286-4776-96e6-fbdbd7311932"
      },
      "outputs": [
        {
          "name": "stdout",
          "output_type": "stream",
          "text": [
            "Cloning into '3dgs'...\n",
            "remote: Enumerating objects: 859, done.\u001b[K\n",
            "remote: Total 859 (delta 0), reused 0 (delta 0), pack-reused 859 (from 1)\u001b[K\n",
            "Receiving objects: 100% (859/859), 78.64 MiB | 21.71 MiB/s, done.\n",
            "Resolving deltas: 100% (489/489), done.\n",
            "Submodule 'SIBR_viewers' (https://gitlab.inria.fr/sibr/sibr_core.git) registered for path 'SIBR_viewers'\n",
            "Submodule 'submodules/diff-gaussian-rasterization' (https://github.com/graphdeco-inria/diff-gaussian-rasterization.git) registered for path 'submodules/diff-gaussian-rasterization'\n",
            "Submodule 'submodules/fused-ssim' (https://github.com/rahul-goel/fused-ssim.git) registered for path 'submodules/fused-ssim'\n",
            "Submodule 'submodules/simple-knn' (https://gitlab.inria.fr/bkerbl/simple-knn.git) registered for path 'submodules/simple-knn'\n",
            "Cloning into '/content/3dgs/SIBR_viewers'...\n",
            "remote: Enumerating objects: 3293, done.        \n",
            "remote: Counting objects: 100% (322/322), done.        \n",
            "remote: Compressing objects: 100% (174/174), done.        \n",
            "remote: Total 3293 (delta 171), reused 280 (delta 148), pack-reused 2971 (from 1)        \n",
            "Receiving objects: 100% (3293/3293), 9.98 MiB | 4.72 MiB/s, done.\n",
            "Resolving deltas: 100% (2039/2039), done.\n",
            "Cloning into '/content/3dgs/submodules/diff-gaussian-rasterization'...\n",
            "remote: Enumerating objects: 329, done.        \n",
            "remote: Total 329 (delta 0), reused 0 (delta 0), pack-reused 329 (from 1)        \n",
            "Receiving objects: 100% (329/329), 111.52 KiB | 1.41 MiB/s, done.\n",
            "Resolving deltas: 100% (217/217), done.\n",
            "Cloning into '/content/3dgs/submodules/fused-ssim'...\n",
            "remote: Enumerating objects: 128, done.        \n",
            "remote: Counting objects: 100% (26/26), done.        \n",
            "remote: Compressing objects: 100% (15/15), done.        \n",
            "remote: Total 128 (delta 13), reused 11 (delta 11), pack-reused 102 (from 1)        \n",
            "Receiving objects: 100% (128/128), 3.90 MiB | 10.39 MiB/s, done.\n",
            "Resolving deltas: 100% (64/64), done.\n",
            "Cloning into '/content/3dgs/submodules/simple-knn'...\n",
            "remote: Enumerating objects: 37, done.        \n",
            "remote: Counting objects: 100% (37/37), done.        \n",
            "remote: Compressing objects: 100% (34/34), done.        \n",
            "remote: Total 37 (delta 18), reused 0 (delta 0), pack-reused 0 (from 0)        \n",
            "Receiving objects: 100% (37/37), 9.41 KiB | 9.41 MiB/s, done.\n",
            "Resolving deltas: 100% (18/18), done.\n",
            "Submodule path 'SIBR_viewers': checked out 'd8856f60c5384cc1975439193bb627d77d917d77'\n",
            "Submodule path 'submodules/diff-gaussian-rasterization': checked out '9c5c2028f6fbee2be239bc4c9421ff894fe4fbe0'\n",
            "Submodule 'third_party/glm' (https://github.com/g-truc/glm.git) registered for path 'submodules/diff-gaussian-rasterization/third_party/glm'\n",
            "Cloning into '/content/3dgs/submodules/diff-gaussian-rasterization/third_party/glm'...\n",
            "remote: Enumerating objects: 59935, done.        \n",
            "remote: Counting objects: 100% (217/217), done.        \n",
            "remote: Compressing objects: 100% (88/88), done.        \n",
            "remote: Total 59935 (delta 170), reused 129 (delta 129), pack-reused 59718 (from 2)        \n",
            "Receiving objects: 100% (59935/59935), 71.37 MiB | 18.97 MiB/s, done.\n",
            "Resolving deltas: 100% (45405/45405), done.\n",
            "Submodule path 'submodules/diff-gaussian-rasterization/third_party/glm': checked out '5c46b9c07008ae65cb81ab79cd677ecc1934b903'\n",
            "Submodule path 'submodules/fused-ssim': checked out '1272e21a282342e89537159e4bad508b19b34157'\n",
            "Submodule path 'submodules/simple-knn': checked out '86710c2d4b46680c02301765dd79e465819c8f19'\n",
            "/content/3dgs\n"
          ]
        }
      ],
      "source": [
        "!git clone --recursive https://github.com/graphdeco-inria/gaussian-splatting.git 3dgs\n",
        "%cd 3dgs"
      ]
    },
    {
      "cell_type": "code",
      "execution_count": null,
      "metadata": {
        "colab": {
          "base_uri": "https://localhost:8080/"
        },
        "id": "RgGNXZpfMnm0",
        "outputId": "7aa06fff-f3eb-4d9d-a814-c6de769f265d"
      },
      "outputs": [
        {
          "name": "stdout",
          "output_type": "stream",
          "text": [
            "\u001b[2K   \u001b[90m━━━━━━━━━━━━━━━━━━━━━━━━━━━━━━━━━━━━━━━━\u001b[0m \u001b[32m22.2/22.2 MB\u001b[0m \u001b[31m101.0 MB/s\u001b[0m eta \u001b[36m0:00:00\u001b[0m\n",
            "\u001b[?25h  Preparing metadata (setup.py) ... \u001b[?25l\u001b[?25hdone\n",
            "  Building wheel for simple_knn (setup.py) ... \u001b[?25l\u001b[?25hdone\n",
            "  Preparing metadata (setup.py) ... \u001b[?25l\u001b[?25hdone\n",
            "  Building wheel for fused_ssim (setup.py) ... \u001b[?25l\u001b[?25hdone\n"
          ]
        }
      ],
      "source": [
        "!pip install -q plyfile\n",
        "!pip install -q rasterio\n",
        "# !pip install -q /content/3dgs/submodules/diff-gaussian-rasterization\n",
        "!pip install -q /content/3dgs/submodules/simple-knn\n",
        "!pip install -q /content/3dgs/submodules/fused-ssim/"
      ]
    },
    {
      "cell_type": "code",
      "execution_count": null,
      "metadata": {
        "colab": {
          "base_uri": "https://localhost:8080/"
        },
        "collapsed": true,
        "id": "PNhvJ1w4mQY-",
        "outputId": "5c4871a4-79a9-4b45-e8db-073769c1a7fd"
      },
      "outputs": [
        {
          "name": "stdout",
          "output_type": "stream",
          "text": [
            "/content/3dgs/submodules/diff-gaussian-rasterization\n",
            "Previous HEAD position was 9c5c202 toggle antialiasing\n",
            "Branch '3dgs_accel' set up to track remote branch '3dgs_accel' from 'origin'.\n",
            "Switched to a new branch '3dgs_accel'\n",
            "Processing /content/3dgs/submodules/diff-gaussian-rasterization\n",
            "  Preparing metadata (setup.py) ... \u001b[?25l\u001b[?25hdone\n",
            "Building wheels for collected packages: diff_gaussian_rasterization\n",
            "  Building wheel for diff_gaussian_rasterization (setup.py) ... \u001b[?25l\u001b[?25hdone\n",
            "  Created wheel for diff_gaussian_rasterization: filename=diff_gaussian_rasterization-0.0.0-cp311-cp311-linux_x86_64.whl size=3517456 sha256=ecdcc2a45b7969584d5171d47ecd8156292aa34687895935b775a6d059a4a458\n",
            "  Stored in directory: /root/.cache/pip/wheels/c4/53/3b/24ad1418ba382e5d37bb0c87d69f4a707baaa022d53f84f1b5\n",
            "Successfully built diff_gaussian_rasterization\n",
            "Installing collected packages: diff_gaussian_rasterization\n",
            "Successfully installed diff_gaussian_rasterization-0.0.0\n"
          ]
        }
      ],
      "source": [
        "# Training acceleration\n",
        "# !pip uninstall diff-gaussian-rasterization -y\n",
        "%cd submodules/diff-gaussian-rasterization\n",
        "# !rm -r build\n",
        "!git checkout 3dgs_accel\n",
        "!pip install ."
      ]
    },
    {
      "cell_type": "code",
      "execution_count": null,
      "metadata": {
        "colab": {
          "base_uri": "https://localhost:8080/"
        },
        "id": "sAzyRS13rfS_",
        "outputId": "a489d291-f06a-416a-9b76-8040bf98edd7"
      },
      "outputs": [
        {
          "name": "stdout",
          "output_type": "stream",
          "text": [
            "Mounted at /content/drive/\n"
          ]
        }
      ],
      "source": [
        "from google.colab import drive\n",
        "drive.mount('/content/drive/')"
      ]
    },
    {
      "cell_type": "code",
      "execution_count": null,
      "metadata": {
        "id": "NC-uof1ZGIVz"
      },
      "outputs": [],
      "source": [
        "data_dir = \"/content/drive/MyDrive/CS280 Homeworks/final/data\" # Replace with location of data"
      ]
    },
    {
      "cell_type": "markdown",
      "metadata": {
        "id": "Q-8sluNkstER"
      },
      "source": [
        "## Data Processing"
      ]
    },
    {
      "cell_type": "code",
      "execution_count": null,
      "metadata": {
        "id": "EPdJbR3R5V58"
      },
      "outputs": [],
      "source": [
        "import os\n",
        "import glob\n",
        "import math\n",
        "import json\n",
        "import numpy as np\n",
        "import matplotlib.pyplot as plt\n",
        "from mpl_toolkits.mplot3d import Axes3D\n",
        "import rasterio\n",
        "from scipy.optimize import least_squares\n",
        "import random"
      ]
    },
    {
      "cell_type": "markdown",
      "metadata": {
        "id": "1GqYk32-mR18"
      },
      "source": [
        "#### Extract RPC Data"
      ]
    },
    {
      "cell_type": "code",
      "execution_count": null,
      "metadata": {
        "id": "c-IEsAKa5aQg"
      },
      "outputs": [],
      "source": [
        "def extract_rpc_data(tif_path):\n",
        "    \"\"\"Extract RPC data from rgb TIF file\"\"\"\n",
        "    with rasterio.open(tif_path) as src:\n",
        "        # Get RPC data\n",
        "        rpc_data = {}\n",
        "        try:\n",
        "            # Check if there are RPC tags\n",
        "            if 'RPC' in src.tag_namespaces():\n",
        "                rpc_tags = src.tags(ns='RPC')\n",
        "\n",
        "                # Extract all RPC parameters\n",
        "                rpc_data[\"LAT_OFF\"] = float(rpc_tags.get(\"LAT_OFF\", 0))\n",
        "                rpc_data[\"LONG_OFF\"] = float(rpc_tags.get(\"LONG_OFF\", 0))\n",
        "                rpc_data[\"HEIGHT_OFF\"] = float(rpc_tags.get(\"HEIGHT_OFF\", 0))\n",
        "                rpc_data[\"LAT_SCALE\"] = float(rpc_tags.get(\"LAT_SCALE\", 1))\n",
        "                rpc_data[\"LONG_SCALE\"] = float(rpc_tags.get(\"LONG_SCALE\", 1))\n",
        "                rpc_data[\"HEIGHT_SCALE\"] = float(rpc_tags.get(\"HEIGHT_SCALE\", 1))\n",
        "                rpc_data[\"LINE_OFF\"] = float(rpc_tags.get(\"LINE_OFF\", 0))\n",
        "                rpc_data[\"SAMP_OFF\"] = float(rpc_tags.get(\"SAMP_OFF\", 0))\n",
        "                rpc_data[\"LINE_SCALE\"] = float(rpc_tags.get(\"LINE_SCALE\", 1))\n",
        "                rpc_data[\"SAMP_SCALE\"] = float(rpc_tags.get(\"SAMP_SCALE\", 1))\n",
        "\n",
        "                # Parse coefficient arrays\n",
        "                for coef in [\"LINE_NUM_COEFF\", \"LINE_DEN_COEFF\", \"SAMP_NUM_COEFF\", \"SAMP_DEN_COEFF\"]:\n",
        "                    if coef in rpc_tags:\n",
        "                        # Parse the coefficients from space-separated string\n",
        "                        rpc_data[coef] = [float(val) for val in rpc_tags[coef].split()]\n",
        "        except Exception as e:\n",
        "            print(f\"Error extracting RPC data from {os.path.basename(tif_path)}: {e}\")\n",
        "            return None\n",
        "\n",
        "        return rpc_data"
      ]
    },
    {
      "cell_type": "code",
      "execution_count": null,
      "metadata": {
        "id": "LNpuoq3cpalR"
      },
      "outputs": [],
      "source": [
        "def calculate_viewing_angles(rpc_data):\n",
        "    \"\"\"Calculate approximate satellite viewing angles from RPC data\"\"\"\n",
        "    if not rpc_data:\n",
        "        return None, None\n",
        "\n",
        "    # Extract first-order coefficients for height\n",
        "    try:\n",
        "        line_z_coef = rpc_data[\"LINE_NUM_COEFF\"][3]  # Coefficient for Z\n",
        "        samp_z_coef = rpc_data[\"SAMP_NUM_COEFF\"][3]  # Coefficient for Z\n",
        "\n",
        "        # ToDo Check off_nadir_angle calculation\n",
        "        # Estimate off-nadir angle\n",
        "        gradient_magnitude = np.sqrt(line_z_coef**2 + samp_z_coef**2)\n",
        "        off_nadir_angle = np.atan(gradient_magnitude) * (180/np.pi) * 15\n",
        "        off_nadir_angle = min(45, max(0, off_nadir_angle))\n",
        "\n",
        "        # ToDo Check azimuth calculation\n",
        "        # Estimate azimuth angle\n",
        "        azimuth = np.atan2(samp_z_coef, line_z_coef) * (180/np.pi)\n",
        "        if azimuth < 0:\n",
        "            azimuth += 360\n",
        "\n",
        "        return off_nadir_angle, azimuth\n",
        "    except (KeyError, IndexError) as e:\n",
        "        print(f\"Error calculating viewing angles: {e}\")\n",
        "        return None, None"
      ]
    },
    {
      "cell_type": "code",
      "execution_count": null,
      "metadata": {
        "id": "FH1HNvNOHi4P"
      },
      "outputs": [],
      "source": [
        "def estimate_camera_position(lat, lon, alt, off_nadir, azimuth, satellite_height=500000):\n",
        "    \"\"\"\n",
        "    Estimate the camera position in 3D space with flipped x-axis\n",
        "\n",
        "    Args:\n",
        "        lat, lon, alt: The ground point location (degrees, degrees, meters)\n",
        "        off_nadir: Off-nadir angle in degrees\n",
        "        azimuth: Azimuth angle in degrees\n",
        "        satellite_height: Approximate satellite height in meters\n",
        "\n",
        "    Returns:\n",
        "        tuple: (camera_x, camera_y, camera_z) in meters in local ENU coordinates\n",
        "    \"\"\"\n",
        "    # Calculate slant range (distance from ground to satellite)\n",
        "    slant_range = satellite_height / math.cos(math.radians(off_nadir))\n",
        "\n",
        "    # Calculate direction vector components\n",
        "    # X is East, Y is North, Z is Up\n",
        "    x = slant_range * math.sin(math.radians(off_nadir)) * math.sin(math.radians(azimuth))\n",
        "    y = slant_range * math.sin(math.radians(off_nadir)) * math.cos(math.radians(azimuth))\n",
        "    z = slant_range * math.cos(math.radians(off_nadir))\n",
        "\n",
        "    # Flip the X-axis\n",
        "    x = -x\n",
        "\n",
        "    return (x, y, z)"
      ]
    },
    {
      "cell_type": "code",
      "execution_count": null,
      "metadata": {
        "id": "nwMrF_I-HmLc"
      },
      "outputs": [],
      "source": [
        "def latlon_to_xyz(lat, lon, alt=0, ref_lat=None, ref_lon=None):\n",
        "    \"\"\"\n",
        "    Convert latitude, longitude to local ENU coordinates with flipped x-axis\n",
        "\n",
        "    Args:\n",
        "        lat, lon: Point coordinates (degrees)\n",
        "        alt: Altitude in meters\n",
        "        ref_lat, ref_lon: Reference point (degrees), if None will use the input point\n",
        "\n",
        "    Returns:\n",
        "        tuple: (x, y, z) in meters in local ENU coordinates\n",
        "    \"\"\"\n",
        "    # If no reference point specified, use the input point\n",
        "    if ref_lat is None:\n",
        "        print(\"No reference point specified, using input point as reference.\")\n",
        "        ref_lat = lat\n",
        "    if ref_lon is None:\n",
        "        print(\"No reference point specified, using input point as reference.\")\n",
        "        ref_lon = lon\n",
        "    print(f\"Reference point: {ref_lat}, {ref_lon}\")\n",
        "\n",
        "    # Earth radius in meters\n",
        "    R = 6378137.0\n",
        "\n",
        "    # Convert to radians\n",
        "    lat_rad = math.radians(lat)\n",
        "    lon_rad = math.radians(lon)\n",
        "    ref_lat_rad = math.radians(ref_lat)\n",
        "    ref_lon_rad = math.radians(ref_lon)\n",
        "\n",
        "    # Calculate distance in east direction (x) - then flip it\n",
        "    x = -(R * math.cos(ref_lat_rad) * (lon_rad - ref_lon_rad))\n",
        "\n",
        "    # Calculate distance in north direction (y)\n",
        "    y = R * (lat_rad - ref_lat_rad)\n",
        "\n",
        "    # Z is just the altitude (relative to reference altitude)\n",
        "    z = alt\n",
        "\n",
        "    return (x, y, z)"
      ]
    },
    {
      "cell_type": "code",
      "execution_count": null,
      "metadata": {
        "id": "63KktOjUHw6c"
      },
      "outputs": [],
      "source": [
        "def create_rotation_matrix(off_nadir, azimuth):\n",
        "    \"\"\"\n",
        "    Create a rotation matrix from off-nadir angle and azimuth\n",
        "    with flipped x-axis orientation\n",
        "\n",
        "    Args:\n",
        "        off_nadir: Off-nadir angle in degrees\n",
        "        azimuth: Azimuth angle in degrees\n",
        "\n",
        "    Returns:\n",
        "        numpy.ndarray: 3x3 rotation matrix and components\n",
        "    \"\"\"\n",
        "    # Convert angles to radians\n",
        "    off_nadir_rad = math.radians(off_nadir)\n",
        "    azimuth_rad = math.radians(azimuth)\n",
        "\n",
        "    # Create rotation matrices for each axis\n",
        "    # First, set the camera to point downward (negative Z)\n",
        "    R_nadir = np.array([\n",
        "        [-1, 0, 0],   # Changed from -1 to 1 for x-axis flip\n",
        "        [0, 1, 0],\n",
        "        [0, 0, -1]  # Points downward\n",
        "    ])\n",
        "\n",
        "    # Rotation for off-nadir angle (rotation around x-axis)\n",
        "    R_off_nadir = np.array([\n",
        "        [1, 0, 0],\n",
        "        [0, math.cos(off_nadir_rad), -math.sin(off_nadir_rad)],\n",
        "        [0, math.sin(off_nadir_rad), math.cos(off_nadir_rad)]\n",
        "    ])\n",
        "\n",
        "    # Rotation for azimuth angle (rotation around z-axis)\n",
        "    # Modified for flipped x-axis\n",
        "    R_azimuth = np.array([\n",
        "        [math.cos(azimuth_rad), math.sin(azimuth_rad), 0],  # Changed signs\n",
        "        [math.sin(azimuth_rad), -math.cos(azimuth_rad), 0],\n",
        "        [0, 0, 1]\n",
        "    ])\n",
        "\n",
        "    # Apply rotations in correct order\n",
        "    R = R_azimuth @ R_off_nadir @ R_nadir\n",
        "\n",
        "    return R, R_nadir, R_off_nadir, R_azimuth"
      ]
    },
    {
      "cell_type": "code",
      "execution_count": null,
      "metadata": {
        "id": "kKMYK3P9S_6N"
      },
      "outputs": [],
      "source": [
        "def process_multiple_images(folder_path, pattern, output_json=\"extrinsics.json\", output_npz=\"selected_extrinsics.npz\"):\n",
        "    \"\"\"Process multiple RGB images with x-axis flipped\"\"\"\n",
        "    # Find all matching files\n",
        "    rgb_files = glob.glob(os.path.join(folder_path, pattern))\n",
        "\n",
        "    if not rgb_files:\n",
        "        print(f\"No files matching pattern '{pattern}' found in {folder_path}\")\n",
        "        return\n",
        "\n",
        "    print(f\"Found {len(rgb_files)} RGB images\")\n",
        "\n",
        "    # Create a table for results\n",
        "    results = []\n",
        "\n",
        "    # Process each image\n",
        "    for rgb_file in rgb_files:\n",
        "        file_name = os.path.basename(rgb_file)\n",
        "\n",
        "        # Extract RPC data\n",
        "        rpc_data = extract_rpc_data(rgb_file)\n",
        "\n",
        "        if rpc_data:\n",
        "            # Get location\n",
        "            lat = rpc_data.get(\"LAT_OFF\")\n",
        "            lon = rpc_data.get(\"LONG_OFF\")\n",
        "            alt = rpc_data.get(\"HEIGHT_OFF\")\n",
        "\n",
        "            # Calculate viewing angles\n",
        "            off_nadir, azimuth = calculate_viewing_angles(rpc_data)\n",
        "\n",
        "            # Add to results\n",
        "            results.append({\n",
        "                \"file_name\": file_name,\n",
        "                \"latitude\": lat,\n",
        "                \"longitude\": lon,\n",
        "                \"altitude\": alt,\n",
        "                \"off_nadir_angle\": off_nadir,\n",
        "                \"azimuth\": azimuth,\n",
        "                \"google_maps_format\": f\"{lat}, {lon}\"\n",
        "            })\n",
        "        else:\n",
        "            print(f\"Could not extract RPC data from {file_name}\")\n",
        "\n",
        "    # Sort results by filename\n",
        "    results.sort(key=lambda x: x['file_name'])\n",
        "\n",
        "    # Calculate reference point (first image)\n",
        "    ref_lat = results[0]['latitude']\n",
        "    ref_lon = results[0]['longitude']\n",
        "    ref_alt = results[0]['altitude']\n",
        "\n",
        "    # Add camera positions\n",
        "    for r in results:\n",
        "        # Estimate camera position with flipped x-axis\n",
        "        cam_x, cam_y, cam_z = estimate_camera_position(\n",
        "            r['latitude'], r['longitude'], r['altitude'],\n",
        "            r['off_nadir_angle'], r['azimuth']\n",
        "        )\n",
        "\n",
        "        # Convert ground point to local coordinates with flipped x-axis\n",
        "        ground_x, ground_y, ground_z = latlon_to_xyz(\n",
        "            r['latitude'], r['longitude'], r['altitude'],\n",
        "            ref_lat, ref_lon\n",
        "        )\n",
        "\n",
        "        # Store camera position in local coordinates relative to the reference point\n",
        "        r['camera_x'] = cam_x + ground_x\n",
        "        r['camera_y'] = cam_y + ground_y\n",
        "        r['camera_z'] = cam_z + ground_z\n",
        "\n",
        "        # Store ground point in local coordinates\n",
        "        r['ground_x'] = ground_x\n",
        "        r['ground_y'] = ground_y\n",
        "        r['ground_z'] = ground_z\n",
        "\n",
        "    # Print results in a table format\n",
        "    print(\"\\nResults (sorted by filename):\")\n",
        "    print(\"-\" * 100)\n",
        "    print(f\"{'File Name':<20} {'Latitude':<10} {'Longitude':<12} {'Off-Nadir':<10} {'Azimuth':<10} {'Camera X':<10} {'Camera Y':<10} {'Camera Z':<10}\")\n",
        "    print(\"-\" * 100)\n",
        "\n",
        "    for r in results:\n",
        "        print(f\"{r['file_name']:<20} {r['latitude']:<10.6f} {r['longitude']:<12.6f} {r['off_nadir_angle']:<10.2f} {r['azimuth']:<10.2f} {r['camera_x']:<10.2f} {r['camera_y']:<10.2f} {r['camera_z']:<10.2f}\")\n",
        "\n",
        "    # Create extrinsics and save as JSON\n",
        "    extrinsics = read_extrinsics(results, output_json, output_npz)\n",
        "\n",
        "    return results, ref_lat, ref_lon, ref_alt, extrinsics"
      ]
    },
    {
      "cell_type": "code",
      "execution_count": null,
      "metadata": {
        "id": "2otN7-l4H18V"
      },
      "outputs": [],
      "source": [
        "def read_extrinsics(results, json_file=\"extrinsics.json\", npz_file=\"selected_extrinsics.npz\"):\n",
        "    \"\"\"Return dictionary of extrinsics for images\"\"\"\n",
        "    extrinsics_dict = {}\n",
        "\n",
        "    for i, r in enumerate(results):\n",
        "        # Extract view number from filename\n",
        "        view_number = os.path.basename(r['file_name']).split('_')[2]\n",
        "        index = int(view_number)\n",
        "\n",
        "        # Get camera position\n",
        "        t = np.array([r['camera_x'], r['camera_y'], r['camera_z']])\n",
        "\n",
        "        # Create rotation matrix from off-nadir and azimuth with flipped x-axis\n",
        "        R, R_nadir, R_off_nadir, R_azimuth = create_rotation_matrix(\n",
        "            r['off_nadir_angle'], r['azimuth']\n",
        "        )\n",
        "\n",
        "        # In computer vision, we need the transformation from world to camera\n",
        "        # This is the inverse of the camera pose in world coordinates\n",
        "        R_world_to_cam = R.T\n",
        "        t_world_to_cam = -R_world_to_cam @ t\n",
        "\n",
        "        # Create the 3x4 extrinsic matrix [R|t]\n",
        "        extrinsic = np.zeros((3, 4))\n",
        "        extrinsic[:3, :3] = R_world_to_cam\n",
        "        extrinsic[:3, 3] = t_world_to_cam\n",
        "\n",
        "        # Use string keys for the dictionary\n",
        "        extrinsics_dict[str(index)] = extrinsic.tolist()\n",
        "\n",
        "        print(f\"Created extrinsic for index {index}:\")\n",
        "        print(extrinsic)\n",
        "\n",
        "    # Save in a more readable JSON format\n",
        "    with open(json_file, 'w') as f:\n",
        "        json.dump(extrinsics_dict, f, indent=2)\n",
        "    print(f\"Saved extrinsics to {json_file} (JSON format)\")\n",
        "\n",
        "    # Save the dictionary to NPZ file\n",
        "    np.savez(npz_file, **extrinsics_dict)\n",
        "    print(f\"Saved extrinsics to {npz_file}\")\n",
        "\n",
        "    return extrinsics_dict"
      ]
    },
    {
      "cell_type": "code",
      "execution_count": null,
      "metadata": {
        "id": "FrmTKuILLp23"
      },
      "outputs": [],
      "source": [
        "from scipy.spatial.transform import Rotation as R\n",
        "import math\n",
        "\n",
        "# def get_intrinsics(results, extrinsics, json_file='intrinsics.json'):\n",
        "#   img_text = \"\"\n",
        "#   img_size = 2048\n",
        "#   ground_width = 500 # in meters\n",
        "\n",
        "#   intrinsics = {}\n",
        "\n",
        "#   for i, r in enumerate(results):\n",
        "#       view_number = os.path.basename(r['file_name']).split('_')[2]\n",
        "#       index = int(view_number)\n",
        "#       altitude = float(r['camera_z'])\n",
        "#       fov_rad = (2 * math.atan(ground_width * math.cos(r['off_nadir_angle']) / (2 * altitude)))\n",
        "#       if fov_rad < 0:\n",
        "#         fov_rad = 2 * math.pi + fov_rad\n",
        "#       f_x = f_y = img_size / (2 * math.tan(fov_rad / 2))\n",
        "#       c_x = img_size / 2\n",
        "#       c_y = img_size / 2\n",
        "\n",
        "#       intrinsics[index] = {\n",
        "#           \"fov\": fov_rad,\n",
        "#           \"f_x\": f_x,\n",
        "#           \"f_y\": f_y,\n",
        "#           \"c_x\": c_x,\n",
        "#           \"c_y\": c_y\n",
        "#       }\n",
        "\n",
        "#       img_text += f\"{index} PINHOLE {img_size} {img_size} {f_x} {f_y} {c_x} {c_y}\\n\"\n",
        "#       print(f\"Intrinsic for index {index}:\\n{intrinsics[index]}\")\n",
        "#   with open(os.path.join(os.getcwd(), \"cameras.txt\"), \"w\") as f_out:\n",
        "#       f_out.write(img_text)\n",
        "\n",
        "#   with open(json_file, 'w') as f:\n",
        "#         json.dump(intrinsics, f, indent=2)\n",
        "#   print(f\"Saved intrinsics to {json_file} (JSON format)\")\n",
        "\n",
        "#   return intrinsics\n",
        "\n",
        "\n",
        "def create_colmap_images_text(results, extrinsics):\n",
        "  img_text = \"\"\n",
        "  for i, r in enumerate(results):\n",
        "      view_number = os.path.basename(r['file_name']).split('_')[2]\n",
        "      index = int(view_number)\n",
        "      flip_x = np.diag([-1, 1, 1])\n",
        "      R_wc = np.array(extrinsics[str(index)])[:3,:3]\n",
        "      C = np.array([r['camera_x'], r['camera_y'], r['camera_z']])\n",
        "      R_cw = R_wc.T\n",
        "      t_cw = -R_cw @ C\n",
        "\n",
        "      R_cw = flip_x @ R_cw # To undo the x-axis flip\n",
        "\n",
        "      qx, qy, qz, qw = R.from_matrix(R_cw).as_quat()\n",
        "      tx, ty, tz = t_cw\n",
        "\n",
        "      img_text += f\"{index} {qw} {qx} {qy} {qz} {tx} {ty} {tz} {index} {r['file_name']}\\n\"\n",
        "      img_text += f\"\\n\"\n",
        "  with open(os.path.join(os.getcwd(), \"images.txt\"), \"w\") as f_out:\n",
        "      f_out.write(img_text)"
      ]
    },
    {
      "cell_type": "code",
      "execution_count": null,
      "metadata": {
        "id": "AfQrgdrf7VAE"
      },
      "outputs": [],
      "source": [
        "def get_transforms_json(scene_path):\n",
        "  ext_int_path = os.getcwd()\n",
        "  cams_path = os.path.join(ext_int_path, \"cameras.txt\")\n",
        "  imgs_path = os.path.join(ext_int_path, \"images.txt\")\n",
        "  images_dir = os.path.join(scene_path, \"images\")\n",
        "\n",
        "  # Parse camera intrinsics\n",
        "  with open(cams_path, \"r\") as f:\n",
        "      for line in f:\n",
        "          if line.startswith(\"#\") or line.strip() == \"\":\n",
        "              continue\n",
        "          parts = line.strip().split()\n",
        "          model = parts[1]\n",
        "          width = int(parts[2])\n",
        "          height = int(parts[3])\n",
        "          fx = float(parts[4])\n",
        "          fy = float(parts[5])\n",
        "\n",
        "          fov_rad = 2 * math.atan(2048 / fy / 2)\n",
        "          cx = float(parts[6])\n",
        "          cy = float(parts[7])\n",
        "          break  # assuming single camera model\n",
        "\n",
        "  # Parse poses from images.txt\n",
        "  frames = []\n",
        "  with open(imgs_path, \"r\") as f:\n",
        "      lines = f.readlines()\n",
        "      for i in range(0, len(lines), 2):\n",
        "          line = lines[i]\n",
        "          if line.startswith(\"#\") or line.strip() == \"\":\n",
        "              continue\n",
        "          parts = line.strip().split()\n",
        "          image_id = int(parts[0])\n",
        "          qw, qx, qy, qz = map(float, parts[1:5])\n",
        "          tx, ty, tz = map(float, parts[5:8])\n",
        "          image_name = parts[9]\n",
        "          image_name = os.path.splitext(image_name)[0]\n",
        "\n",
        "          # Quaternion to rotation matrix\n",
        "          q = np.array([qw, qx, qy, qz], dtype=np.float64)\n",
        "          R = np.array([\n",
        "              [1 - 2*q[2]**2 - 2*q[3]**2,     2*q[1]*q[2] - 2*q[3]*q[0],     2*q[1]*q[3] + 2*q[2]*q[0]],\n",
        "              [2*q[1]*q[2] + 2*q[3]*q[0], 1 - 2*q[1]**2 - 2*q[3]**2,         2*q[2]*q[3] - 2*q[1]*q[0]],\n",
        "              [2*q[1]*q[3] - 2*q[2]*q[0],     2*q[2]*q[3] + 2*q[1]*q[0], 1 - 2*q[1]**2 - 2*q[2]**2]\n",
        "          ])\n",
        "\n",
        "          # COLMAP gives world-to-camera; invert to camera-to-world\n",
        "          # R = R.T\n",
        "          t = np.array([[tx], [ty], [tz]])\n",
        "          c2w = np.eye(4)\n",
        "          # c2w[:3, :3] = R\n",
        "          # c2w[:3, 3:] = -R @ t\n",
        "          c2w[:3, :3] = R\n",
        "          c2w[:3, 3:] = t\n",
        "          frame = {\n",
        "              \"file_path\": f\"input/{image_name}\",\n",
        "              \"transform_matrix\": c2w.tolist()\n",
        "          }\n",
        "          frames.append(frame)\n",
        "\n",
        "  # Compose final transforms dict\n",
        "  transforms = {\n",
        "      \"camera_angle_x\": fov_rad,\n",
        "      \"fl_x\": fx,\n",
        "      \"fl_y\": fy,\n",
        "      \"cx\": cx,\n",
        "      \"cy\": cy,\n",
        "      \"w\": width,\n",
        "      \"h\": height,\n",
        "      \"camera_model\": model,\n",
        "      \"frames\": frames\n",
        "  }\n",
        "\n",
        "  # Write to transforms.json\n",
        "  with open(os.path.join(scene_path, \"transforms_train.json\"), \"w\") as f:\n",
        "      json.dump(transforms, f, indent=4)\n",
        "\n",
        "  with open(os.path.join(scene_path, \"transforms_train.json\"), \"r\") as f:\n",
        "      transforms = json.load(f)\n",
        "\n",
        "  frames = transforms[\"frames\"]\n",
        "  random.shuffle(frames)\n",
        "\n",
        "  # 90/10 train/test split\n",
        "  split_idx = int(len(frames) * 0.9)\n",
        "  train_frames = frames[:split_idx]\n",
        "  test_frames = frames[split_idx:]\n",
        "\n",
        "  transforms_train = {**transforms, \"frames\": train_frames}\n",
        "  transforms_test = {**transforms, \"frames\": test_frames}\n",
        "\n",
        "  # Save outputs\n",
        "  with open(os.path.join(scene_path, \"transforms_train.json\"), \"w\") as f:\n",
        "      json.dump(transforms_train, f, indent=4)\n",
        "\n",
        "  with open(os.path.join(scene_path, \"transforms_test.json\"), \"w\") as f:\n",
        "      json.dump(transforms_test, f, indent=4)\n",
        "\n",
        "  print(\"Created transforms_train.json and transforms_test.json\")\n"
      ]
    },
    {
      "cell_type": "markdown",
      "metadata": {
        "id": "TbL5_s43yJnL"
      },
      "source": [
        "#### Extract and create data files"
      ]
    },
    {
      "cell_type": "code",
      "execution_count": null,
      "metadata": {
        "colab": {
          "base_uri": "https://localhost:8080/"
        },
        "id": "DSwFYsToAEMB",
        "outputId": "fe495f94-ac6b-42f1-a8a4-b7af021c7c7d"
      },
      "outputs": [
        {
          "name": "stdout",
          "output_type": "stream",
          "text": [
            "/content/3dgs\n"
          ]
        }
      ],
      "source": [
        "%cd /content/3dgs"
      ]
    },
    {
      "cell_type": "code",
      "execution_count": null,
      "metadata": {
        "id": "xflP2LA1XNvB"
      },
      "outputs": [],
      "source": [
        "from PIL import Image\n",
        "import shutil\n",
        "\n",
        "RGB_folder = os.path.join(data_dir, \"JAX_068\")\n",
        "output_dir = os.path.join(os.getcwd(), \"data\", \"input\")\n",
        "os.makedirs(output_dir, exist_ok=True)\n",
        "\n",
        "for filename in os.listdir(RGB_folder):\n",
        "    if filename.lower().endswith('.tif') or filename.lower().endswith('.tiff'):\n",
        "        input_path = os.path.join(RGB_folder, filename)\n",
        "        output_path = os.path.join(output_dir, os.path.splitext(filename)[0] + '.jpg')\n",
        "        with Image.open(input_path) as im:\n",
        "            im.convert('RGB').save(output_path, 'JPEG')"
      ]
    },
    {
      "cell_type": "code",
      "execution_count": null,
      "metadata": {
        "colab": {
          "base_uri": "https://localhost:8080/"
        },
        "collapsed": true,
        "id": "pK_X2e9KKjvq",
        "outputId": "8edaac95-b8cc-4659-df19-53e31cee8cfb"
      },
      "outputs": [
        {
          "name": "stdout",
          "output_type": "stream",
          "text": [
            "Found 19 RGB images\n",
            "Reference point: 30.2992, -81.6397\n",
            "Reference point: 30.2992, -81.6397\n",
            "Reference point: 30.2992, -81.6397\n",
            "Reference point: 30.2992, -81.6397\n",
            "Reference point: 30.2992, -81.6397\n",
            "Reference point: 30.2992, -81.6397\n",
            "Reference point: 30.2992, -81.6397\n",
            "Reference point: 30.2992, -81.6397\n",
            "Reference point: 30.2992, -81.6397\n",
            "Reference point: 30.2992, -81.6397\n",
            "Reference point: 30.2992, -81.6397\n",
            "Reference point: 30.2992, -81.6397\n",
            "Reference point: 30.2992, -81.6397\n",
            "Reference point: 30.2992, -81.6397\n",
            "Reference point: 30.2992, -81.6397\n",
            "Reference point: 30.2992, -81.6397\n",
            "Reference point: 30.2992, -81.6397\n",
            "Reference point: 30.2992, -81.6397\n",
            "Reference point: 30.2992, -81.6397\n",
            "\n",
            "Results (sorted by filename):\n",
            "----------------------------------------------------------------------------------------------------\n",
            "File Name            Latitude   Longitude    Off-Nadir  Azimuth    Camera X   Camera Y   Camera Z  \n",
            "----------------------------------------------------------------------------------------------------\n",
            "JAX_068_001_RGB.tif  30.299200  -81.639700   22.09      249.68     190340.84  -70500.72  499979.00 \n",
            "JAX_068_002_RGB.tif  30.299400  -81.639700   15.29      244.67     123537.92  -58456.60  499979.00 \n",
            "JAX_068_003_RGB.tif  30.300700  -81.639600   19.98      225.28     129174.80  -127749.40 499981.00 \n",
            "JAX_068_004_RGB.tif  30.299600  -81.640300   9.12       92.35      -80130.60  -3246.77   499980.00 \n",
            "JAX_068_005_RGB.tif  30.299800  -81.640800   19.06      250.69     163166.01  -57082.65  499981.00 \n",
            "JAX_068_006_RGB.tif  30.300300  -81.640800   16.66      314.36     107067.14  104728.64  499979.00 \n",
            "JAX_068_007_RGB.tif  30.299900  -81.640200   13.79      138.92     -80580.25  -92400.23  499979.00 \n",
            "JAX_068_009_RGB.tif  30.302700  -81.640100   25.03      152.82     -106620.68 -207335.27 499981.00 \n",
            "JAX_068_010_RGB.tif  30.315100  -81.640000   34.25      157.85     -128311.63 -313492.76 499981.00 \n",
            "JAX_068_011_RGB.tif  30.299600  -81.640600   5.82       218.05     31480.00   -40058.37  499979.00 \n",
            "JAX_068_012_RGB.tif  30.299800  -81.640900   18.92      355.96     12188.78   171017.54  499979.00 \n",
            "JAX_068_013_RGB.tif  30.300900  -81.640100   21.02      171.95     -26868.62  -190005.30 499979.00 \n",
            "JAX_068_014_RGB.tif  30.301300  -81.638600   23.80      98.81      -218051.54 -33548.30  499981.00 \n",
            "JAX_068_015_RGB.tif  30.300400  -81.641400   26.77      274.04     251765.04  17885.46   499981.00 \n",
            "JAX_068_016_RGB.tif  30.301000  -81.640000   21.09      138.69     -127244.58 -144628.71 499981.00 \n",
            "JAX_068_018_RGB.tif  30.299400  -81.639800   7.32       110.67     -60112.23  -22655.00  499979.00 \n",
            "JAX_068_019_RGB.tif  30.300000  -81.640900   13.57      250.64     113944.42  -39897.64  499979.00 \n",
            "JAX_068_020_RGB.tif  30.299500  -81.639600   26.82      99.85      -249021.26 -43180.41  499981.00 \n",
            "JAX_068_022_RGB.tif  30.299500  -81.641200   13.54      303.90     100075.94  67179.14   499979.00 \n",
            "Created extrinsic for index 1:\n",
            "[[ 3.47332153e-01  9.37742169e-01  0.00000000e+00  0.00000000e+00]\n",
            " [-8.68875948e-01  3.21824659e-01  3.76142893e-01  7.89900074e+00]\n",
            " [-3.52725052e-01  1.30646521e-01 -9.26561668e-01  5.39610032e+05]]\n",
            "Created extrinsic for index 2:\n",
            "[[ 4.27852696e-01  9.03848478e-01  0.00000000e+00 -2.01231905e+01]\n",
            " [-8.71860170e-01  4.12710463e-01  2.63685263e-01 -3.65115319e+00]\n",
            " [-2.38331524e-01  1.12818451e-01 -9.64608771e-01  5.18322093e+05]]\n",
            "Created extrinsic for index 3:\n",
            "[[ 7.03610740e-01  7.10585622e-01  0.00000000e+00 -1.11890393e+02]\n",
            " [-6.67811527e-01  6.61256502e-01  3.41712751e-01 -1.10342136e+02]\n",
            " [-2.42816167e-01  2.40432761e-01 -9.39804446e-01  5.31965237e+05]]\n",
            "Created extrinsic for index 4:\n",
            "[[ 4.10101009e-02 -9.99158732e-01  0.00000000e+00  4.21253610e+01]\n",
            " [ 9.86531074e-01  4.04918033e-02  1.58482979e-01 -5.55247458e+01]\n",
            " [ 1.58349652e-01  6.49940294e-03 -9.87361710e-01  5.06370862e+05]]\n",
            "Created extrinsic for index 5:\n",
            "[[ 3.30754344e-01  9.43716888e-01  0.00000000e+00 -9.80014170e+01]\n",
            " [-8.91960079e-01  3.12614593e-01  3.26618026e-01  7.96280661e+01]\n",
            " [-3.08234947e-01  1.08030331e-01 -9.45156424e-01  5.29020377e+05]]\n",
            "Created extrinsic for index 6:\n",
            "[[-6.99191752e-01  7.14934188e-01  0.00000000e+00 -1.36227490e+01]\n",
            " [-6.84929564e-01 -6.69847813e-01  2.86662520e-01  1.60457846e+02]\n",
            " [-2.04944836e-01 -2.00432070e-01 -9.58031628e-01  5.21929530e+05]]\n",
            "Created extrinsic for index 7:\n",
            "[[ 7.53747198e-01 -6.57164486e-01  0.00000000e+00  1.49859964e+01]\n",
            " [ 6.38230593e-01  7.32030613e-01  2.38312592e-01 -8.27092281e+01]\n",
            " [ 1.56610572e-01  1.79627448e-01 -9.71188503e-01  5.14791194e+05]]\n",
            "Created extrinsic for index 9:\n",
            "[[ 8.89585130e-01 -4.56769413e-01  0.00000000e+00  1.43765215e+02]\n",
            " [ 4.13861449e-01  8.06019361e-01  4.23144764e-01 -3.21911152e+02]\n",
            " [ 1.93279585e-01  3.76423289e-01 -9.06062089e-01  5.51667254e+05]]\n",
            "Created extrinsic for index 10:\n",
            "[[ 9.26194886e-01 -3.77045133e-01  0.00000000e+00  6.40656348e+02]\n",
            " [ 3.11677009e-01  7.65620947e-01  5.62745065e-01 -1.35342845e+03]\n",
            " [ 2.12180288e-01  5.21211602e-01 -8.26630505e-01  6.03920811e+05]]\n",
            "Created extrinsic for index 11:\n",
            "[[ 7.87422845e-01  6.16413225e-01  0.00000000e+00 -9.55613179e+01]\n",
            " [-6.13240195e-01  7.83369532e-01  1.01334295e-01  2.02929172e+01]\n",
            " [-6.24637998e-02  7.97929391e-02 -9.94852432e-01  5.02568060e+05]]\n",
            "Created extrinsic for index 12:\n",
            "[[-9.97515325e-01  7.04498176e-02  0.00000000e+00  1.10344209e+02]\n",
            " [-6.66438456e-02 -9.43625684e-01  3.24236283e-01  7.75217712e+01]\n",
            " [-2.28423870e-02 -3.23430661e-01 -9.45976127e-01  5.28558936e+05]]\n",
            "Created extrinsic for index 13:\n",
            "[[ 9.90140689e-01 -1.40076467e-01  0.00000000e+00 -1.15578599e+01]\n",
            " [ 1.30758961e-01  9.24279216e-01  3.58622400e-01 -1.72409508e+02]\n",
            " [ 5.02345589e-02  3.55086630e-01 -9.33482712e-01  5.35539827e+05]]\n",
            "Created extrinsic for index 14:\n",
            "[[ 1.53173015e-01 -9.88199387e-01  0.00000000e+00  2.47206491e+02]\n",
            " [ 9.04147798e-01  1.40144839e-01  4.03579215e-01  7.04971430e+01]\n",
            " [ 3.98816733e-01  6.18174451e-02 -9.14944707e-01  5.46491441e+05]]\n",
            "Created extrinsic for index 15:\n",
            "[[-7.03805336e-02  9.97520216e-01  0.00000000e+00 -1.21752443e+02]\n",
            " [-8.90616751e-01 -6.28379067e-02  4.50392273e-01  1.62472108e+02]\n",
            " [-4.49275397e-01 -3.16988485e-02 -8.92830779e-01  5.60077215e+05]]\n",
            "Created extrinsic for index 16:\n",
            "[[ 7.51166533e-01 -6.60112747e-01  0.00000000e+00  1.10610965e+02]\n",
            " [ 6.15907619e-01  7.00863894e-01  3.59788281e-01 -1.51358802e+02]\n",
            " [ 2.37500831e-01  2.70260916e-01 -9.33033972e-01  5.35807439e+05]]\n",
            "Created extrinsic for index 18:\n",
            "[[ 3.52917935e-01 -9.35654280e-01  0.00000000e+00  1.74392925e+01]\n",
            " [ 9.28022251e-01  3.50039223e-01  1.27464679e-01 -1.40360295e+01]\n",
            " [ 1.19262873e-01  4.49845714e-02 -9.91843110e-01  5.04089009e+05]]\n",
            "Created extrinsic for index 19:\n",
            "[[ 3.31432077e-01  9.43479082e-01  0.00000000e+00 -1.22248220e+02]\n",
            " [-9.17156557e-01  3.22185312e-01  2.34564437e-01  8.20148423e+01]\n",
            " [-2.21306640e-01  7.77421785e-02 -9.72100573e-01  5.14348259e+05]]\n",
            "Created extrinsic for index 20:\n",
            "[[ 1.70985644e-01 -9.85273520e-01  0.00000000e+00  3.45474475e+01]\n",
            " [ 8.79324113e-01  1.52599047e-01  4.51112664e-01  1.19264612e+01]\n",
            " [ 4.44469362e-01  7.71337893e-02 -8.92467010e-01  5.60229537e+05]]\n",
            "Created extrinsic for index 22:\n",
            "[[-5.57712930e-01  8.30033908e-01  0.00000000e+00  5.26859581e+01]\n",
            " [-8.06969608e-01 -5.42215662e-01  2.34098756e-01  1.39364881e+02]\n",
            " [-1.94309905e-01 -1.30559903e-01 -9.72212823e-01  5.14302644e+05]]\n",
            "Saved extrinsics to camera_extrinsics.json (JSON format)\n",
            "Saved extrinsics to selected_extrinsics.npz\n"
          ]
        }
      ],
      "source": [
        "results, ref_lat, ref_lon, ref_alt, extrinsics = process_multiple_images(\n",
        "    RGB_folder,\n",
        "    \"JAX_068_*.tif\",\n",
        "    \"camera_extrinsics.json\",\n",
        "    \"selected_extrinsics.npz\"\n",
        ")\n",
        "# intrinsics = get_intrinsics(results, extrinsics, \"camera_intrinsics.json\")\n",
        "create_colmap_images_text(results, extrinsics)\n",
        "# get_transforms_json(output_dir) # If using NeRF data format"
      ]
    },
    {
      "cell_type": "markdown",
      "metadata": {
        "id": "ASoMqhkn6REk"
      },
      "source": [
        "# Training"
      ]
    },
    {
      "cell_type": "markdown",
      "metadata": {
        "id": "wIkVMyLCwlbX"
      },
      "source": [
        "#### Use COLMAP to get initial camera parameters and point correspondences\n",
        "\n",
        "**Prerequisite:** must have COLMAP installed and added to system Path environment variables"
      ]
    },
    {
      "cell_type": "code",
      "execution_count": null,
      "metadata": {
        "id": "r7lHPyl0wfqr"
      },
      "outputs": [],
      "source": [
        "!python convert.py -s data"
      ]
    },
    {
      "cell_type": "markdown",
      "metadata": {
        "id": "4SXG_6awm7pV"
      },
      "source": [
        "#### Update images.bin with estimated parameters\n",
        "After running COLMAP to get an initial estimate for SfM, update the binary extrinsics files with the estimates from the RPC model."
      ]
    },
    {
      "cell_type": "code",
      "execution_count": null,
      "metadata": {
        "id": "jFhQIJbwmv3b"
      },
      "outputs": [],
      "source": [
        "!wget https://raw.githubusercontent.com/colmap/colmap/dev/scripts/python/read_write_model.py"
      ]
    },
    {
      "cell_type": "code",
      "execution_count": null,
      "metadata": {
        "id": "I0XI3JI9qZyF"
      },
      "outputs": [],
      "source": [
        "from read_write_model import Image, read_images_binary, write_images_binary, qvec2rotmat, rotmat2qvec\n",
        "import numpy as np\n",
        "\n",
        "output_path = os.path.join(colmapdatadir, \"sparse/0/images.bin\")\n",
        "\n",
        "images = read_images_binary(output_path)\n",
        "\n",
        "for img in images.values():\n",
        "    img_id = img.id\n",
        "    view_number = img.name.split('_')[2]\n",
        "    index = int(view_number)\n",
        "\n",
        "    with open(\"camera_extrinsics.json\", \"r\") as f:\n",
        "      # Load your custom extrinsic (R, t) for this image\n",
        "      extrinsics_data = json.load(f)\n",
        "      extrinsic = np.array(extrinsics_data[str(index)])\n",
        "      R_wc = extrinsic[:3, :3]\n",
        "      t_wc = extrinsic[:3, 3:]\n",
        "\n",
        "      R_cw = R_wc.T  # Invert world-to-camera to camera-to-world\n",
        "      t_cw = -R_cw @ t_wc\n",
        "\n",
        "      qvec = rotmat2qvec(R_cw)\n",
        "      tvec = t_cw\n",
        "\n",
        "      images[img_id] = Image(id=img_id, qvec=qvec, tvec=tvec, camera_id=img.camera_id, name=img.name, xys=img.xys, point3D_ids=img.point3D_ids)\n",
        "\n",
        "write_images_binary(images, output_path)"
      ]
    },
    {
      "cell_type": "markdown",
      "metadata": {
        "id": "jks8O3WilJB2"
      },
      "source": [
        "#### Depth Regularization"
      ]
    },
    {
      "cell_type": "code",
      "execution_count": null,
      "metadata": {
        "id": "tvGGzRw2NvmF"
      },
      "outputs": [],
      "source": [
        "!git clone https://github.com/DepthAnything/Depth-Anything-V2.git depth_anything\n",
        "%cd depth_anything"
      ]
    },
    {
      "cell_type": "code",
      "execution_count": null,
      "metadata": {},
      "outputs": [],
      "source": [
        "!python run.py --encoder vitl --pred-only --grayscale --img-path ../data --outdir ../data/depth_maps\n",
        "%cd .."
      ]
    },
    {
      "cell_type": "code",
      "execution_count": null,
      "metadata": {
        "id": "2c4qwmp7nRJZ"
      },
      "outputs": [],
      "source": [
        "!python utils/make_depth_scale.py --base_dir data --depths_dir depth_maps"
      ]
    },
    {
      "cell_type": "markdown",
      "metadata": {
        "id": "3zkr1QFQu5rl"
      },
      "source": [
        "#### Running Training\n",
        "\n",
        "Move the generated depth maps folder into your chosen COLMAP data folder."
      ]
    },
    {
      "cell_type": "code",
      "execution_count": null,
      "metadata": {
        "id": "QtKOQqo0u5JT"
      },
      "outputs": [],
      "source": [
        "# Without depth regularization\n",
        "!python train.py -s data --eval --exposure_lr_init 0.001 --exposure_lr_final 0.0001 --exposure_lr_delay_steps 5000 --exposure_lr_delay_mult 0.001 --train_test_exp"
      ]
    },
    {
      "cell_type": "code",
      "execution_count": null,
      "metadata": {
        "id": "ClGUgMWVvP_r"
      },
      "outputs": [],
      "source": [
        "# With depth regularization\n",
        "!python train.py -s data --eval --exposure_lr_init 0.001 --exposure_lr_final 0.0001 --exposure_lr_delay_steps 5000 --exposure_lr_delay_mult 0.001 --train_test_exp -d depth_maps"
      ]
    },
    {
      "cell_type": "markdown",
      "metadata": {
        "id": "YK3m8F1D7P8I"
      },
      "source": [
        "Outputs will be stored under\n",
        "\n",
        "```\n",
        "output/<NAME OF FOLDER>\n",
        "```\n",
        "\n"
      ]
    }
  ],
  "metadata": {
    "accelerator": "GPU",
    "colab": {
      "collapsed_sections": [
        "1GqYk32-mR18",
        "4SXG_6awm7pV"
      ],
      "gpuType": "T4",
      "machine_shape": "hm",
      "provenance": []
    },
    "kernelspec": {
      "display_name": "Python 3",
      "name": "python3"
    },
    "language_info": {
      "name": "python"
    }
  },
  "nbformat": 4,
  "nbformat_minor": 0
}
